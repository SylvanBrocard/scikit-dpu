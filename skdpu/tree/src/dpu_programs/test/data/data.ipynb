{
 "cells": [
  {
   "cell_type": "markdown",
   "id": "4ed65084-7b8e-4e36-a552-f490ec078b5e",
   "metadata": {},
   "source": [
    "# Data test set generation for trees"
   ]
  },
  {
   "cell_type": "code",
   "execution_count": 1,
   "id": "c56f1bbd-c573-4ae6-9c9c-9e48b0fdc2bf",
   "metadata": {},
   "outputs": [],
   "source": [
    "import numpy as np\n",
    "from sklearn import datasets\n",
    "from sklearn.utils import shuffle"
   ]
  },
  {
   "cell_type": "markdown",
   "id": "a6c53ae8-9c65-4b99-9331-6cb6c4185858",
   "metadata": {},
   "source": [
    "## Loading and shuffling the iris dataset"
   ]
  },
  {
   "cell_type": "code",
   "execution_count": 2,
   "id": "c905fc09-90a1-4a55-b529-bd1d6c2d361b",
   "metadata": {},
   "outputs": [],
   "source": [
    "iris = datasets.load_iris()\n",
    "X, y = iris.data, iris.target\n",
    "X = X.astype(np.float32)"
   ]
  },
  {
   "cell_type": "code",
   "execution_count": 3,
   "id": "67c86ba9-0f47-4404-bd0c-a1bfe1909305",
   "metadata": {},
   "outputs": [],
   "source": [
    "X, y = shuffle(X, y, random_state=42)"
   ]
  },
  {
   "cell_type": "code",
   "execution_count": 4,
   "id": "aeb1cc9e-7837-4e62-952f-59944e7e8606",
   "metadata": {},
   "outputs": [],
   "source": [
    "np.savetxt(\"X.txt\", X)\n",
    "np.savetxt(\"y.txt\", y)"
   ]
  },
  {
   "cell_type": "markdown",
   "id": "e28c8564-7799-4aad-871d-95e56b554be5",
   "metadata": {},
   "source": [
    "## Mins and maxes"
   ]
  },
  {
   "cell_type": "code",
   "execution_count": 5,
   "id": "f2e13427-7d6d-4859-b862-63057945e209",
   "metadata": {},
   "outputs": [],
   "source": [
    "mins = np.amin(X, axis=0)\n",
    "maxes = np.amax(X, axis=0)"
   ]
  },
  {
   "cell_type": "code",
   "execution_count": 6,
   "id": "8d3805bd-508b-4ef6-8ffa-5126ffbc5356",
   "metadata": {},
   "outputs": [],
   "source": [
    "minmaxes = np.vstack((mins, maxes))"
   ]
  },
  {
   "cell_type": "code",
   "execution_count": 7,
   "id": "3f21e8f0-6190-43b6-b9f8-84d0d9202f2a",
   "metadata": {},
   "outputs": [],
   "source": [
    "np.savetxt(\"minmaxes.txt\", minmaxes, \"%f\")"
   ]
  },
  {
   "cell_type": "markdown",
   "id": "3879e208-0980-4ff1-b5e0-19c2417b39a2",
   "metadata": {},
   "source": [
    "## Split evaluate"
   ]
  },
  {
   "cell_type": "code",
   "execution_count": 8,
   "id": "7ac92f95-8a5b-48d9-8790-1c98804dde5e",
   "metadata": {},
   "outputs": [],
   "source": [
    "from numpy.random import default_rng"
   ]
  },
  {
   "cell_type": "code",
   "execution_count": 9,
   "id": "6f0acb55-da0d-4be1-b530-08a5b3ea534c",
   "metadata": {},
   "outputs": [],
   "source": [
    "rng = default_rng(42)\n",
    "n_points, n_features = X.shape\n",
    "n_classes = np.unique(y)\n",
    "for i_feature in range(n_features):\n",
    "    threshold = (\n",
    "        rng.random(dtype=np.float32) * (maxes[i_feature] - mins[i_feature])\n",
    "        + mins[i_feature]\n",
    "    )\n",
    "    condition = X[:, i_feature] <= threshold\n",
    "\n",
    "    left_count = sum(condition)\n",
    "    right_count = n_points - left_count\n",
    "\n",
    "    left_leaf = y[condition]\n",
    "    right_leaf = y[np.logical_not(condition)]\n",
    "\n",
    "    left_gini = np.array([sum(left_leaf == i_class) for i_class in n_classes])\n",
    "    right_gini = np.array([sum(right_leaf == i_class) for i_class in n_classes])\n",
    "    gini = np.vstack((left_gini, right_gini)).transpose()\n",
    "\n",
    "    with open(f\"counts/split_{i_feature}_instruction.txt\", \"w\") as instruction_file:\n",
    "        instruction_file.write(f\"feature = {i_feature}\\n\")\n",
    "        instruction_file.write(f\"threshold = {threshold}\")\n",
    "    with open(f\"counts/split_{i_feature}_nodecounts.txt\", \"w\") as counts_file:\n",
    "        counts_file.write(f\"{left_count} {right_count}\")\n",
    "    np.savetxt(f\"counts/split_{i_feature}_gini.txt\", gini, \"%u\")"
   ]
  },
  {
   "cell_type": "markdown",
   "id": "652de6b9-14e5-4c99-8b56-63fd4af3593c",
   "metadata": {},
   "source": [
    "## Commits"
   ]
  },
  {
   "cell_type": "code",
   "execution_count": 10,
   "id": "f094768e-2a60-4568-8b14-7163572f1b01",
   "metadata": {},
   "outputs": [],
   "source": [
    "rng = default_rng(43)\n",
    "n_commits = 3\n",
    "\n",
    "leaf_indices = np.zeros_like(y, dtype=np.int8)\n",
    "np.savetxt(f\"commits/initial_leaf_indices.txt\", leaf_indices, \"%u\")\n",
    "n_leaves = 1\n",
    "for i_commit in range(n_commits):\n",
    "    i_leaf = rng.integers(n_leaves)\n",
    "    i_feature = rng.integers(n_features)\n",
    "    leaf_feature = X[leaf_indices == i_leaf, i_feature]\n",
    "    leaf_min, leaf_max = np.amin(leaf_feature), np.amax(leaf_feature)\n",
    "    threshold = (\n",
    "        rng.random(dtype=np.float32) * (maxes[i_feature] - mins[i_feature])\n",
    "        + mins[i_feature]\n",
    "    )\n",
    "    condition = np.logical_and(X[:, i_feature] > threshold, leaf_indices == i_leaf)\n",
    "\n",
    "    leaf_indices[condition] = n_leaves\n",
    "\n",
    "    with open(f\"commits/commit_{i_commit}_instruction.txt\", \"w\") as instruction_file:\n",
    "        instruction_file.write(f\"leaf = {i_leaf}\\n\")\n",
    "        instruction_file.write(f\"feature = {i_feature}\\n\")\n",
    "        instruction_file.write(f\"threshold = {threshold:f}\\n\")\n",
    "\n",
    "    np.savetxt(f\"commits/commit_{i_commit}_leaf_indices.txt\", leaf_indices, \"%u\")\n",
    "\n",
    "    n_leaves += 1"
   ]
  }
 ],
 "metadata": {
  "kernelspec": {
   "display_name": "Python [conda env:datagen]",
   "language": "python",
   "name": "conda-env-datagen-py"
  },
  "language_info": {
   "codemirror_mode": {
    "name": "ipython",
    "version": 3
   },
   "file_extension": ".py",
   "mimetype": "text/x-python",
   "name": "python",
   "nbconvert_exporter": "python",
   "pygments_lexer": "ipython3",
   "version": "3.9.9"
  }
 },
 "nbformat": 4,
 "nbformat_minor": 5
}
